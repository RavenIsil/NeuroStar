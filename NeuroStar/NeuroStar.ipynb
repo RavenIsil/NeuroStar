{
 "cells": [
  {
   "cell_type": "markdown",
   "metadata": {},
   "source": [
    "###### Santiago Tarrío. Alberto Ríos. ISW1 - Inteligencia Artificial"
   ]
  },
  {
   "cell_type": "markdown",
   "metadata": {},
   "source": [
    "# Trabajo sobre Redes Neuronales"
   ]
  },
  {
   "cell_type": "markdown",
   "metadata": {},
   "source": [
    "### Implementación de una red neuronal para el reconocimiento de letras manuscritas."
   ]
  },
  {
   "cell_type": "code",
   "execution_count": 1,
   "metadata": {
    "collapsed": false
   },
   "outputs": [],
   "source": [
    "from PIL import Image\n",
    "import numpy as np\n",
    "import math\n",
    "import matplotlib.pyplot as plt\n",
    "import random\n",
    "from os import listdir\n",
    "from os.path import isfile, join"
   ]
  },
  {
   "cell_type": "code",
   "execution_count": 2,
   "metadata": {
    "collapsed": false
   },
   "outputs": [],
   "source": [
    "def img_converter(path,umbral):\n",
    "    image=Image.open(path)\n",
    "    image_array=np.asarray(image)\n",
    "    image_norm=np.asarray([i/255 for i in image_array])\n",
    "    img_letra = image_norm.tolist()\n",
    "    img_primera=[]\n",
    "    for i in img_letra:\n",
    "        img_primera+=i\n",
    "    for i in range(len(img_primera)):\n",
    "        img_primera[i]=1.0 if abs(1-img_primera[i])>=umbral else 0.0\n",
    "    return img_primera\n",
    "\n",
    "            \n",
    "def sigmoide(z):\n",
    "    s = 1.0/(1.0 + np.exp(-z))\n",
    "    return s\n",
    "    \n",
    "def sigmoide_prima(z):\n",
    "    s = sigmoide(z)*(1 - sigmoide(z))\n",
    "    return s\n",
    "\n",
    "def letra_respuesta(salidas):\n",
    "    maximo=max(salidas)\n",
    "    if salidas.index(maximo)==0:\n",
    "        return \"P\"\n",
    "    elif salidas.index(maximo)==1:\n",
    "        return \"Q\"\n",
    "    elif salidas.index(maximo)==2:\n",
    "        return \"R\"\n",
    "    elif salidas.index(maximo)==3:\n",
    "        return \"S\"\n",
    "    elif salidas.index(maximo)==4:\n",
    "        return \"T\"\n",
    "    elif salidas.index(maximo)==5:\n",
    "        return \"U\"\n",
    "    else:\n",
    "        return \"none\""
   ]
  },
  {
   "cell_type": "markdown",
   "metadata": {},
   "source": [
    "### Conjuntos de entrenamiento y pruebas.\n",
    "Aquí preparamos los conjuntos que servirán para entrenar a la red y validar su eficiencia, leyendo los archivos directamente del directorio:"
   ]
  },
  {
   "cell_type": "code",
   "execution_count": 3,
   "metadata": {
    "collapsed": false
   },
   "outputs": [],
   "source": [
    "path_e=\"/home/hukgar/Universidad/IA/Trabajo/Casos/CE/\"\n",
    "path_p=\"/home/hukgar/Universidad/IA/Trabajo/Casos/Prueba/\"\n",
    "archivos_entrenamiento=[path_e+f for f in listdir(path_e) \n",
    "                        if isfile(join(path_e, f))]\n",
    "archivos_entrenamiento=sorted(archivos_entrenamiento, key=lambda x: int(x.split('/')[8].split('.')[0]))\n",
    "archivos_pruebas=[path_p+f for f in listdir(path_p) \n",
    "                        if isfile(join(path_p, f))]\n",
    "archivos_pruebas=sorted(archivos_pruebas, key=lambda x: int(x.split('/')[8].split('.')[0]))\n",
    "se=[img_converter(f,0.7) for f in archivos_entrenamiento]\n",
    "\n",
    "outputs=[[1,0,0,0,0,0],[0,1,0,0,0,0],[0,0,1,0,0,0],[0,0,0,1,0,0],[0,0,0,0,1,0],\n",
    "         [0,0,0,0,0,1],[1,0,0,0,0,0],[0,1,0,0,0,0],[0,0,1,0,0,0],[0,0,0,1,0,0],\n",
    "         [0,0,0,0,1,0],[0,0,0,0,0,1],[1,0,0,0,0,0],[0,1,0,0,0,0],[0,0,1,0,0,0],\n",
    "         [0,0,0,1,0,0],[0,0,0,0,1,0],[0,0,0,0,0,1],[0,0,0,0,0,1],[0,0,1,0,0,0],\n",
    "         [0,1,0,0,0,0],[0,0,0,1,0,0],[1,0,0,0,0,0],[0,0,0,0,1,0],[1,0,0,0,0,0],\n",
    "         [1,0,0,0,0,0],[0,0,1,0,0,0],[0,1,0,0,0,0],[0,0,0,1,0,0],[0,0,0,0,1,0],\n",
    "         [0,0,0,1,0,0],[0,0,0,0,0,1],[0,0,0,1,0,0],[0,0,1,0,0,0],[0,0,0,0,1,0],\n",
    "         [0,1,0,0,0,0]]"
   ]
  },
  {
   "cell_type": "markdown",
   "metadata": {},
   "source": [
    "Estas son las dos clases principales, que implementan tanto la clase __Neurona__, como la red en sí, que incluye entre sus métodos el _algoritmo de retropropagación_:"
   ]
  },
  {
   "cell_type": "code",
   "execution_count": 4,
   "metadata": {
    "collapsed": false
   },
   "outputs": [],
   "source": [
    "class Neuron:\n",
    "    def __init__(self,bias):\n",
    "        self.ini = bias*(-1)\n",
    "        self.error=0.0\n",
    "        self.a=0.0\n",
    "        self.bias = bias\n",
    "        \n",
    "    def calcula_entrada(self,neuronas_p,pesos_p):\n",
    "        self.ini=self.bias*(-1)\n",
    "        for n in range(len(neuronas_p)):\n",
    "            self.ini+=neuronas_p[n].get_a()*pesos_p[n]\n",
    "            \n",
    "    def calcula_salida(self):\n",
    "        self.a=sigmoide(self.ini)\n",
    "    \n",
    "    def calcula_error_ultima_capa(self,Y):\n",
    "        self.error=self.a*(1-self.a)*(Y-self.a)\n",
    "        \n",
    "    def calcula_error(self,neuronas_s,pesos_s):\n",
    "            suma_p=0.0\n",
    "            for i in range(len(neuronas_s)):\n",
    "                suma_p+=pesos_s[i]*neuronas_s[i].get_error()\n",
    "            self.error=self.a*(1-self.a)*suma_p\n",
    "    \n",
    "    def set_output(self,n):\n",
    "        self.a=n\n",
    "    def set_input(self,n):\n",
    "        self.ini=n\n",
    "    def set_bias(self,n):\n",
    "        self.bias=n\n",
    "    def actualiza_bias(self,rate):\n",
    "        self.bias+=rate*(-1)*self.error\n",
    "    \n",
    "    def get_bias(self):\n",
    "        return self.bias\n",
    "        \n",
    "    def get_a(self):\n",
    "        return self.a\n",
    "    def get_entrada(self):\n",
    "        return self.ini\n",
    "    \n",
    "    def get_error(self):\n",
    "        return self.error\n",
    "        \n",
    "class NeuralNetwork:\n",
    "    def __init__(self,neurons,rate,weights,bw_o,bw_s):\n",
    "        self.weights = weights\n",
    "        self.rate = rate\n",
    "        self.neurons=[]\n",
    "        for i in range(len(neurons)-1):\n",
    "            self.neurons.append([])\n",
    "            for j in range(neurons[i]):\n",
    "                self.neurons[i].append(Neuron(bw_o))\n",
    "        self.neurons.append([])\n",
    "        for i in range(neurons[len(neurons)-1]):\n",
    "            self.neurons[len(neurons)-1].append(Neuron(bw_s))\n",
    "        self.layers = len(self.neurons) #numero de capas          \n",
    "    \n",
    "    def train(self,inX,outY,iterations):\n",
    "        error=0.0\n",
    "        for j in range(iterations):\n",
    "            if j%100==0:\n",
    "                print(\"Epoch: {0}\".format(j))\n",
    "            for i in range(len(inX)):\n",
    "                self.feedforward(inX[i])\n",
    "                self.backpropagation(outY[i])\n",
    "            if j==iterations-1:\n",
    "                print(\"Fin del entrenamiento.\")\n",
    "            \n",
    "    def feedforward(self, X):\n",
    "        for n in range(len(self.neurons[0])):\n",
    "            self.neurons[0][n].set_output(X[n])\n",
    "        for i in range(1,self.layers):\n",
    "            for j in range(len(self.neurons[i])):\n",
    "                pesos_i=self.weights[i-1][j]\n",
    "                self.neurons[i][j].calcula_entrada(self.neurons[i-1],pesos_i)\n",
    "                self.neurons[i][j].calcula_salida()\n",
    "                \n",
    "    def backpropagation(self,Y):\n",
    "        for n in range(len(self.neurons[len(self.neurons)-1])):\n",
    "            self.neurons[len(self.neurons)-1][n].calcula_error_ultima_capa(Y[n])\n",
    "            self.neurons[len(self.neurons)-1][n].actualiza_bias(self.rate)\n",
    "        \n",
    "        for i in range(self.layers-2,-1,-1):\n",
    "            for j in range(len(self.neurons[i])):\n",
    "                pesos_r=[x[j] for x in self.weights[i]]\n",
    "                self.neurons[i][j].calcula_error(self.neurons[i+1],pesos_r)\n",
    "                self.neurons[i][j].actualiza_bias(self.rate)\n",
    "                for k in range(len(self.neurons[i+1])):\n",
    "                    self.weights[i][k][j]+=self.rate*self.neurons[i][j].get_a()*self.neurons[i+1][k].get_error()\n",
    "                \n",
    "    \n",
    "    def prediccion(self,X):\n",
    "        for i in range(self.layers):\n",
    "            for i in self.neurons[i]:\n",
    "                i.set_input(0.0)\n",
    "        self.feedforward(X)\n",
    "        return [self.neurons[2][i].get_a() for i in range(len(self.neurons[2]))]\n",
    "      \n",
    "        \n",
    "    def get_pesos(self):\n",
    "        return self.weights\n",
    "    \n",
    "    def get_neurons(self):\n",
    "        return self.neurons\n",
    "    \n",
    "    def set_rate(self,rate):\n",
    "        self.rate=rate"
   ]
  },
  {
   "cell_type": "code",
   "execution_count": 5,
   "metadata": {
    "collapsed": false
   },
   "outputs": [],
   "source": [
    "neuronas = [900,4,3,6]\n",
    "pesos = [[[random.random()/10 for i in range(neuronas[0])] for i in range(neuronas[1])],\n",
    "         [[random.random()/10 for i in range(neuronas[1])] for i in range(neuronas[2])],\n",
    "         [[random.random()/10 for i in range(neuronas[2])] for i in range(neuronas[3])]]\n",
    "red = NeuralNetwork(neuronas,0.01,pesos,7,1)"
   ]
  },
  {
   "cell_type": "code",
   "execution_count": 7,
   "metadata": {
    "collapsed": false
   },
   "outputs": [
    {
     "data": {
      "text/plain": [
       "0.1"
      ]
     },
     "execution_count": 7,
     "metadata": {},
     "output_type": "execute_result"
    }
   ],
   "source": [
    "red.get_neurons()[2][1].calcula_salida()\n",
    "red.rate\n",
    "red.set_rate(0.1)\n",
    "red.rate"
   ]
  },
  {
   "cell_type": "code",
   "execution_count": 413,
   "metadata": {
    "collapsed": false
   },
   "outputs": [
    {
     "name": "stdout",
     "output_type": "stream",
     "text": [
      "0.0\n"
     ]
    },
    {
     "data": {
      "text/plain": [
       "1"
      ]
     },
     "execution_count": 413,
     "metadata": {},
     "output_type": "execute_result"
    }
   ],
   "source": [
    "print(red.get_neurons()[2][0].get_a())\n",
    "red.get_neurons()[2][0].get_bias()"
   ]
  },
  {
   "cell_type": "code",
   "execution_count": 495,
   "metadata": {
    "collapsed": false
   },
   "outputs": [
    {
     "data": {
      "text/plain": [
       "[3.4198657194186772,\n",
       " -0.60249106672396424,\n",
       " 1.6434447810274235,\n",
       " -2.9133557298758364]"
      ]
     },
     "execution_count": 495,
     "metadata": {},
     "output_type": "execute_result"
    }
   ],
   "source": [
    "(red.get_pesos()[1][2])"
   ]
  },
  {
   "cell_type": "code",
   "execution_count": null,
   "metadata": {
    "collapsed": false
   },
   "outputs": [
    {
     "name": "stdout",
     "output_type": "stream",
     "text": [
      "Epoch: 0\n",
      "Epoch: 100\n",
      "Epoch: 200\n",
      "Epoch: 300"
     ]
    }
   ],
   "source": [
    "red.train(se,outputs,2000)"
   ]
  },
  {
   "cell_type": "code",
   "execution_count": 171,
   "metadata": {
    "collapsed": false
   },
   "outputs": [],
   "source": [
    "objetivo_pruebas=[[0,0,0,1,0,0],[1,0,0,0,0,0],[0,0,0,0,0,1],[0,0,0,1,0,0],\n",
    "                 [0,1,0,0,0,0],[1,0,0,0,0,0],[0,0,0,1,0,0],[0,0,0,0,1,0],\n",
    "                 [0,0,1,0,0,0],[0,0,0,0,0,1],[0,0,0,1,0,0],[0,0,1,0,0,0],\n",
    "                 [1,0,0,0,0,0],[0,1,0,0,0,0]]"
   ]
  },
  {
   "cell_type": "code",
   "execution_count": 504,
   "metadata": {
    "collapsed": false
   },
   "outputs": [
    {
     "name": "stdout",
     "output_type": "stream",
     "text": [
      "[1.379696385121429, 4.6080978873700769, 3.4987488245637137, 1.1298761908976549, -0.63945228601741888, 1.6013246440032249]\n"
     ]
    }
   ],
   "source": [
    "print([red.get_neurons()[2][i].get_bias() for i in range(len(red.get_neurons()[2]))])"
   ]
  },
  {
   "cell_type": "code",
   "execution_count": 498,
   "metadata": {
    "collapsed": false
   },
   "outputs": [],
   "source": [
    "salida_pruebas=[]\n",
    "def mostrar_prediccion(red_n,path,umbral):\n",
    "    entradas=img_converter(path,umbral)\n",
    "    valores=red_n.prediccion(entradas)\n",
    "    salida_pruebas.append(valores)\n",
    "    print(\"Salida de la red: {0}\".format(valores))\n",
    "    print(\"Interpretación: {0} \\n\".format(letra_respuesta(valores)))\n",
    "    imagen=Image.open(path)\n",
    "    imagen.show()"
   ]
  },
  {
   "cell_type": "code",
   "execution_count": 501,
   "metadata": {
    "collapsed": false
   },
   "outputs": [
    {
     "name": "stdout",
     "output_type": "stream",
     "text": [
      "Caso 1: \n",
      "Salida de la red: [0.042090977609455286, 0.085179775168858815, 0.014194779894684711, 0.83724352132557123, 0.064653428242980385, 0.064202238243590545]\n",
      "Interpretación: S \n",
      "\n",
      "Caso 2: \n",
      "Salida de la red: [0.78738697294984084, 0.028041200405275808, 0.13426589163031444, 0.050777938446831372, 0.073880338677010979, 0.039180872602520213]\n",
      "Interpretación: P \n",
      "\n",
      "Caso 3: \n",
      "Salida de la red: [0.059383783433549477, 0.11687684315628523, 0.0016555277256781219, 0.055035608813520015, 0.13464250555624849, 0.87546151632624014]\n",
      "Interpretación: U \n",
      "\n",
      "Caso 4: \n",
      "Salida de la red: [0.079730158843824686, 0.48483949448478175, 0.016353894808004827, 0.258769518064495, 0.0025122037296252666, 0.10941711885036644]\n",
      "Interpretación: Q \n",
      "\n",
      "Caso 5: \n",
      "Salida de la red: [0.010810903328317318, 0.865255526352122, 0.10005468364239178, 0.037870311980650891, 0.0012085993075358296, 0.057753010484717641]\n",
      "Interpretación: Q \n",
      "\n",
      "Caso 6: \n",
      "Salida de la red: [0.47484930358572275, 0.050369445489268444, 0.45740272923921704, 0.021321945487825775, 0.10851904429212032, 0.014492460787294423]\n",
      "Interpretación: P \n",
      "\n",
      "Caso 7: \n",
      "Salida de la red: [0.011740075576424737, 0.19521181091405065, 0.035709770813456339, 0.57018145618255334, 0.061536742125713716, 0.057461543153528055]\n",
      "Interpretación: S \n",
      "\n",
      "Caso 8: \n",
      "Salida de la red: [0.041813107390005676, 0.019391942634763955, 0.16418164069512411, 0.11297473921991386, 0.77117318943529189, 0.061820123725723097]\n",
      "Interpretación: T \n",
      "\n",
      "Caso 9: \n",
      "Salida de la red: [0.14361909947653156, 0.10735494529138595, 0.79095823734735193, 0.014838877056189598, 0.11850318529247265, 0.0047425666175919361]\n",
      "Interpretación: R \n",
      "\n",
      "Caso 10: \n",
      "Salida de la red: [0.27118570451422297, 0.26097589107348734, 0.010047445878751298, 0.010365106721014955, 0.014525858987983468, 0.59332684304018002]\n",
      "Interpretación: U \n",
      "\n",
      "Caso 11: \n",
      "Salida de la red: [0.014456090813742639, 0.091881907612569313, 0.05051531730747038, 0.77586180116575776, 0.13983433649565186, 0.02859065066436059]\n",
      "Interpretación: S \n",
      "\n",
      "Caso 12: \n",
      "Salida de la red: [0.11744778379625465, 0.12611714069363208, 0.79793519241599453, 0.018293449300931391, 0.099422321746091294, 0.0040318695884486253]\n",
      "Interpretación: R \n",
      "\n",
      "Caso 13: \n",
      "Salida de la red: [0.69696050208817217, 0.035112326143209235, 0.25573969951979836, 0.029388301614007701, 0.088500510502404511, 0.025985356283185025]\n",
      "Interpretación: P \n",
      "\n",
      "Caso 14: \n",
      "Salida de la red: [0.011562359237021846, 0.83822031888310666, 0.068611544202115959, 0.048871248894952778, 0.0014780932892468784, 0.07700975798148392]\n",
      "Interpretación: Q \n",
      "\n",
      "Caso 15: \n",
      "Salida de la red: [0.13757970802322653, 0.015707973758374884, 0.026862284506537222, 0.37693748535169763, 0.49853693020393813, 0.13028662123820081]\n",
      "Interpretación: T \n",
      "\n"
     ]
    }
   ],
   "source": [
    "salida_pruebas=[]\n",
    "for i in archivos_pruebas:\n",
    "    print(\"Caso {0}: \".format(archivos_pruebas.index(i)+1))\n",
    "    mostrar_prediccion(red,i,0.7)"
   ]
  },
  {
   "cell_type": "code",
   "execution_count": 461,
   "metadata": {
    "collapsed": false
   },
   "outputs": [],
   "source": [
    "def rendimiento(salidas,objetivos):\n",
    "    total=len(objetivos)\n",
    "    acertadas=0\n",
    "    for i in range(len(objetivos)):\n",
    "        ms=np.argmax(salidas[i])\n",
    "        mo=np.argmax(objetivos[i])\n",
    "        if ms==mo:\n",
    "            acertadas+=1\n",
    "    return \"Rendimiento: {0} %\".format((acertadas/total)*100)"
   ]
  },
  {
   "cell_type": "markdown",
   "metadata": {
    "collapsed": true
   },
   "source": [
    "##### "
   ]
  },
  {
   "cell_type": "code",
   "execution_count": 502,
   "metadata": {
    "collapsed": false
   },
   "outputs": [
    {
     "data": {
      "text/plain": [
       "'Rendimiento: 92.85714285714286 %'"
      ]
     },
     "execution_count": 502,
     "metadata": {},
     "output_type": "execute_result"
    }
   ],
   "source": [
    "rendimiento(salida_pruebas,objetivo_pruebas) "
   ]
  },
  {
   "cell_type": "code",
   "execution_count": null,
   "metadata": {
    "collapsed": false
   },
   "outputs": [],
   "source": []
  },
  {
   "cell_type": "code",
   "execution_count": null,
   "metadata": {
    "collapsed": true
   },
   "outputs": [],
   "source": []
  }
 ],
 "metadata": {
  "kernelspec": {
   "display_name": "Python 3",
   "language": "python",
   "name": "python3"
  },
  "language_info": {
   "codemirror_mode": {
    "name": "ipython",
    "version": 3
   },
   "file_extension": ".py",
   "mimetype": "text/x-python",
   "name": "python",
   "nbconvert_exporter": "python",
   "pygments_lexer": "ipython3",
   "version": "3.5.1"
  }
 },
 "nbformat": 4,
 "nbformat_minor": 0
}
